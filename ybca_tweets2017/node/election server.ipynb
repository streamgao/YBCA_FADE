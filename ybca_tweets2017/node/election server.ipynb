{
 "cells": [
  {
   "cell_type": "code",
   "execution_count": null,
   "metadata": {
    "ExecuteTime": {
     "end_time": "2017-02-19T18:16:20.986044",
     "start_time": "2017-02-20T02:16:20.668Z"
    },
    "code_folding": [
     0
    ],
    "collapsed": true
   },
   "outputs": [],
   "source": [
    "// init\n",
    "\"use strict\";\n",
    "\n",
    "var _ = require('lodash');\n",
    "\n",
    "var Q = require('q');\n",
    "var fs = require('fs');\n",
    "var split = require('split');\n",
    "\n",
    "var fs = require('fs'); \n",
    "// var parse = require('csv-parse');\n",
    "const csv = require('csvtojson')\n",
    "\n",
    "var Config = require('./config')\n",
    "\n",
    "var Controller = require('./controller');\n",
    "\n",
    "var Network = require('./network')\n",
    "\n",
    "var DEBUG = false\n",
    "var Log = function(){\n",
    "    var msg = _.map(arguments, b=>{return b==null ? 'NULL' : b.toString()}).join(' ')+'\\n'\n",
    "    fs.appendFile('log.txt', msg, function (err) {\n",
    "      if (err) throw err;\n",
    "    });    \n",
    "    if(DEBUG) console.log(msg)\n",
    "};\n",
    "\n",
    "var App_and_socket = require('./app_and_socket')\n",
    "// http page: localhost:8080\n",
    "// osc server 3334\n",
    "// osc client 3333\n",
    "\n",
    "\n",
    "var controller = new Controller(Network, App_and_socket)\n",
    "Network.startServer(controller.heart_beat_received.bind(controller))\n",
    "\n",
    "controller.labelStreams.init()\n",
    "    .then(()=>{\n",
    "        console.log(\"all done\")\n",
    "    })\n",
    "    .catch(err=>{console.log(err)})"
   ]
  },
  {
   "cell_type": "markdown",
   "metadata": {},
   "source": [
    "## Regular streams control"
   ]
  },
  {
   "cell_type": "code",
   "execution_count": 87,
   "metadata": {
    "ExecuteTime": {
     "end_time": "2017-02-19T18:16:29.104010",
     "start_time": "2017-02-20T02:16:29.099Z"
    },
    "collapsed": false
   },
   "outputs": [
    {
     "data": {
      "text/plain": [
       "undefined"
      ]
     },
     "execution_count": 87,
     "metadata": {},
     "output_type": "execute_result"
    }
   ],
   "source": [
    "// controller.regularStreams.updateRegular(opt4_1)\n",
    "controller.regularStreams.startRegular()"
   ]
  },
  {
   "cell_type": "code",
   "execution_count": 99,
   "metadata": {
    "ExecuteTime": {
     "end_time": "2017-02-19T18:20:03.528200",
     "start_time": "2017-02-20T02:20:03.525Z"
    },
    "collapsed": false
   },
   "outputs": [
    {
     "data": {
      "text/plain": [
       "undefined"
      ]
     },
     "execution_count": 99,
     "metadata": {},
     "output_type": "execute_result"
    }
   ],
   "source": [
    "controller.regularStreams.stopRegular()"
   ]
  },
  {
   "cell_type": "code",
   "execution_count": 74,
   "metadata": {
    "ExecuteTime": {
     "end_time": "2017-02-18T18:41:05.810640",
     "start_time": "2017-02-19T02:41:05.807Z"
    },
    "code_folding": [
     0
    ],
    "collapsed": false
   },
   "outputs": [
    {
     "data": {
      "text/plain": [
       "undefined"
      ]
     },
     "execution_count": 74,
     "metadata": {},
     "output_type": "execute_result"
    }
   ],
   "source": [
    "// options\n",
    "\n",
    "var opt1={\n",
    "    name: \"1 calm night\",\n",
    "    duration: 10000,\n",
    "    sequential: false,\n",
    "    sequential_delta: 40,\n",
    "    randomize: true,\n",
    "    randomize_range: 10000,\n",
    "    drift: false,\n",
    "    drift_delta:20,\n",
    "    msg:\"0, 0, 255,0\"\n",
    "};\n",
    "\n",
    "var opt2={\n",
    "    name: \"2 wake up\",\n",
    "    duration: 5000,\n",
    "    sequential: false,\n",
    "    sequential_delta: 40,\n",
    "    randomize: true,\n",
    "    randomize_range: 5000,\n",
    "    drift: false,\n",
    "    drift_delta:20,\n",
    "    msg:\"0, 0, 255,1\"\n",
    "};\n",
    "\n",
    "var opt3_1 = {\n",
    "    name: \"3.1 morning\",\n",
    "    duration: 2000,\n",
    "    sequential: true,\n",
    "    sequential_delta: 50,\n",
    "    randomize: false,\n",
    "    randomize_range: 2000,\n",
    "    drift: false,\n",
    "    drift_delta:20,\n",
    "    msg:\"0,255, 0,0\"\n",
    "};\n",
    "\n",
    "var opt3_2 = {\n",
    "    name: \"3.2 obsessive compulsive\",\n",
    "    duration: 1500,\n",
    "    sequential: true,\n",
    "    sequential_delta: 30,\n",
    "    randomize: false,\n",
    "    randomize_range: 2000,\n",
    "    drift: false,\n",
    "    drift_delta:20,\n",
    "    msg:\"0,255, 0,1\"\n",
    "};\n",
    "\n",
    "var opt4_1 = {\n",
    "    name: \"marching slow\",\n",
    "    duration: 1500,\n",
    "    sequential: false,\n",
    "    sequential_delta: 30,\n",
    "    randomize: false,\n",
    "    randomize_range: 2000,\n",
    "    drift: false,\n",
    "    drift_delta:20,\n",
    "    msg:\"255,0, 0,1\"\n",
    "};\n",
    "\n",
    "var opt4_2 = {\n",
    "    name: \"marching 1s\",\n",
    "    duration: 1000,\n",
    "    sequential: false,\n",
    "    sequential_delta: 30,\n",
    "    randomize: false,\n",
    "    randomize_range: 2000,\n",
    "    drift: false,\n",
    "    drift_delta:20,\n",
    "    msg:\"255,0, 0,1\"\n",
    "};\n",
    "\n",
    "var opt4_3 = {\n",
    "    name: \"marching 0.5s\",\n",
    "    duration: 500,\n",
    "    sequential: false,\n",
    "    sequential_delta: 30,\n",
    "    randomize: false,\n",
    "    randomize_range: 2000,\n",
    "    drift: false,\n",
    "    drift_delta:20,\n",
    "    msg:\"255,0, 0,1\"\n",
    "};\n",
    "\n",
    "var opt4_4 = {\n",
    "    name: \"marching 0.25s\",\n",
    "    duration: 250,\n",
    "    sequential: false,\n",
    "    sequential_delta: 30,\n",
    "    randomize: false,\n",
    "    randomize_range: 2000,\n",
    "    drift: false,\n",
    "    drift_delta:20,\n",
    "    msg:\"255,0, 0,1\"\n",
    "};\n",
    "\n",
    "var opt4_5 = {\n",
    "    name: \"marching fast\",\n",
    "    duration: 120,\n",
    "    sequential: false,\n",
    "    sequential_delta: 30,\n",
    "    randomize: false,\n",
    "    randomize_range: 2000,\n",
    "    drift: false,\n",
    "    drift_delta:20,\n",
    "    msg:\"255,0, 0,1\"\n",
    "};\n",
    "\n",
    "var opt_off={\n",
    "    name: \"off\",\n",
    "    duration: 2000,\n",
    "    sequential: false,\n",
    "    sequential_delta: 40,\n",
    "    randomize: false,\n",
    "    randomize_range: 2000,\n",
    "    drift: false,\n",
    "    drift_delta:20,\n",
    "    msg:\"0,0, 0,0\"\n",
    "};\n",
    "\n",
    "var opts=[opt1, opt2, opt3_1, opt3_2, \n",
    "          opt4_1, opt4_2, opt4_3, opt4_4, opt4_5, \n",
    "          opt_off, opt1]\n",
    "var id=0\n",
    "var opt=null\n",
    "var next=()=>{\n",
    "    opt = opts[id++]\n",
    "    console.log(opt.name)\n",
    "    controller.regularStreams.updateRegular(opt)\n",
    "};"
   ]
  },
  {
   "cell_type": "code",
   "execution_count": 85,
   "metadata": {
    "ExecuteTime": {
     "end_time": "2017-02-18T18:48:20.782717",
     "start_time": "2017-02-19T02:48:20.779Z"
    },
    "collapsed": false
   },
   "outputs": [
    {
     "name": "stdout",
     "output_type": "stream",
     "text": [
      "off\n"
     ]
    },
    {
     "data": {
      "text/plain": [
       "undefined"
      ]
     },
     "execution_count": 85,
     "metadata": {},
     "output_type": "execute_result"
    },
    {
     "name": "stdout",
     "output_type": "stream",
     "text": [
      "disconnected, remaining connections: 1\n"
     ]
    }
   ],
   "source": [
    "next()"
   ]
  },
  {
   "cell_type": "code",
   "execution_count": 55,
   "metadata": {
    "ExecuteTime": {
     "end_time": "2017-02-18T15:49:34.617344",
     "start_time": "2017-02-18T23:49:34.614Z"
    },
    "collapsed": false
   },
   "outputs": [
    {
     "data": {
      "text/plain": [
       "0"
      ]
     },
     "execution_count": 55,
     "metadata": {},
     "output_type": "execute_result"
    }
   ],
   "source": [
    "id"
   ]
  },
  {
   "cell_type": "code",
   "execution_count": 72,
   "metadata": {
    "ExecuteTime": {
     "end_time": "2017-02-18T18:40:57.060809",
     "start_time": "2017-02-19T02:40:57.058Z"
    },
    "collapsed": false
   },
   "outputs": [
    {
     "data": {
      "text/plain": [
       "0"
      ]
     },
     "execution_count": 72,
     "metadata": {},
     "output_type": "execute_result"
    }
   ],
   "source": [
    "id=0"
   ]
  },
  {
   "cell_type": "code",
   "execution_count": 24,
   "metadata": {
    "ExecuteTime": {
     "end_time": "2017-02-18T13:03:17.130115",
     "start_time": "2017-02-18T21:03:17.127Z"
    },
    "collapsed": false
   },
   "outputs": [
    {
     "data": {
      "text/plain": [
       "undefined"
      ]
     },
     "execution_count": 24,
     "metadata": {},
     "output_type": "execute_result"
    }
   ],
   "source": [
    "controller.regularStreams.updateRegular(opt1)"
   ]
  },
  {
   "cell_type": "code",
   "execution_count": 98,
   "metadata": {
    "ExecuteTime": {
     "end_time": "2017-02-19T18:19:20.274015",
     "start_time": "2017-02-20T02:19:20.271Z"
    },
    "code_folding": [],
    "collapsed": false
   },
   "outputs": [
    {
     "data": {
      "text/plain": [
       "undefined"
      ]
     },
     "execution_count": 98,
     "metadata": {},
     "output_type": "execute_result"
    }
   ],
   "source": [
    "option={\n",
    "    duration: 1000,\n",
    "    sequential: false,\n",
    "    sequential_delta: 40,\n",
    "    randomize: true,\n",
    "    randomize_range: 200,\n",
    "    drift: false,\n",
    "    drift_delta:20,\n",
    "    msg:\"0,0, 255,1\"\n",
    "}\n",
    "\n",
    "controller.regularStreams.updateRegular(option)"
   ]
  },
  {
   "cell_type": "code",
   "execution_count": null,
   "metadata": {
    "collapsed": true
   },
   "outputs": [],
   "source": []
  },
  {
   "cell_type": "markdown",
   "metadata": {},
   "source": [
    "## Label stream control"
   ]
  },
  {
   "cell_type": "code",
   "execution_count": 70,
   "metadata": {
    "ExecuteTime": {
     "end_time": "2017-02-18T18:16:42.038129",
     "start_time": "2017-02-19T02:16:42.009Z"
    },
    "collapsed": false
   },
   "outputs": [
    {
     "data": {
      "text/plain": [
       "undefined"
      ]
     },
     "execution_count": 70,
     "metadata": {},
     "output_type": "execute_result"
    }
   ],
   "source": [
    "controller.labelStreams.start()"
   ]
  },
  {
   "cell_type": "code",
   "execution_count": 76,
   "metadata": {
    "ExecuteTime": {
     "end_time": "2017-02-18T18:41:10.393698",
     "start_time": "2017-02-19T02:41:10.390Z"
    },
    "collapsed": false
   },
   "outputs": [
    {
     "data": {
      "text/plain": [
       "undefined"
      ]
     },
     "execution_count": 76,
     "metadata": {},
     "output_type": "execute_result"
    }
   ],
   "source": [
    "controller.labelStreams.stop()"
   ]
  },
  {
   "cell_type": "code",
   "execution_count": 64,
   "metadata": {
    "ExecuteTime": {
     "end_time": "2017-02-18T16:45:48.997055",
     "start_time": "2017-02-19T00:45:48.993Z"
    },
    "collapsed": false
   },
   "outputs": [
    {
     "data": {
      "text/plain": [
       "undefined"
      ]
     },
     "execution_count": 64,
     "metadata": {},
     "output_type": "execute_result"
    }
   ],
   "source": [
    "controller.labelStreams.soundOff()"
   ]
  },
  {
   "cell_type": "code",
   "execution_count": 8,
   "metadata": {
    "ExecuteTime": {
     "end_time": "2017-02-14T21:00:33.847462",
     "start_time": "2017-02-15T05:00:33.844Z"
    },
    "collapsed": true
   },
   "outputs": [
    {
     "data": {
      "text/plain": [
       "undefined"
      ]
     },
     "execution_count": 8,
     "metadata": {},
     "output_type": "execute_result"
    },
    {
     "name": "stdout",
     "output_type": "stream",
     "text": [
      "Start label playing from the beginning\n",
      "Start label playing from the beginning\n",
      "Start label playing from the beginning\n",
      "Start label playing from the beginning\n",
      "Start label playing from the beginning\n",
      "Start label playing from the beginning\n",
      "Start label playing from the beginning\n",
      "Start label playing from the beginning\n",
      "Start label playing from the beginning\n",
      "Start label playing from the beginning\n",
      "Start label playing from the beginning\n",
      "Start label playing from the beginning\n",
      "Start label playing from the beginning\n",
      "Start label playing from the beginning\n",
      "Start label playing from the beginning\n",
      "Start label playing from the beginning\n",
      "Start label playing from the beginning\n",
      "Start label playing from the beginning\n",
      "Start label playing from the beginning\n",
      "Start label playing from the beginning\n",
      "Start label playing from the beginning\n",
      "Start label playing from the beginning\n",
      "Start label playing from the beginning\n",
      "Start label playing from the beginning\n",
      "Start label playing from the beginning\n",
      "Start label playing from the beginning\n",
      "Start label playing from the beginning\n",
      "Start label playing from the beginning\n",
      "Start label playing from the beginning\n",
      "Start label playing from the beginning\n",
      "Start label playing from the beginning\n",
      "Start label playing from the beginning\n",
      "Start label playing from the beginning\n",
      "Start label playing from the beginning\n",
      "Start label playing from the beginning\n",
      "Start label playing from the beginning\n",
      "Start label playing from the beginning\n",
      "Start label playing from the beginning\n",
      "Start label playing from the beginning\n",
      "Start label playing from the beginning\n",
      "Start label playing from the beginning\n",
      "Start label playing from the beginning\n",
      "Start label playing from the beginning\n",
      "Start label playing from the beginning\n",
      "Start label playing from the beginning\n",
      "Start label playing from the beginning\n",
      "Start label playing from the beginning\n",
      "Start label playing from the beginning\n",
      "Start label playing from the beginning\n",
      "Start label playing from the beginning\n",
      "Start label playing from the beginning\n",
      "Start label playing from the beginning\n",
      "Start label playing from the beginning\n",
      "Start label playing from the beginning\n",
      "Start label playing from the beginning\n",
      "Start label playing from the beginning\n",
      "Start label playing from the beginning\n",
      "Start label playing from the beginning\n",
      "Start label playing from the beginning\n",
      "Start label playing from the beginning\n",
      "Start label playing from the beginning\n",
      "Start label playing from the beginning\n",
      "Start label playing from the beginning\n",
      "Start label playing from the beginning\n",
      "Start label playing from the beginning\n",
      "Start label playing from the beginning\n",
      "Start label playing from the beginning\n",
      "Start label playing from the beginning\n",
      "Start label playing from the beginning\n",
      "Start label playing from the beginning\n",
      "Start label playing from the beginning\n",
      "Start label playing from the beginning\n",
      "Start label playing from the beginning\n",
      "Start label playing from the beginning\n",
      "Start label playing from the beginning\n",
      "Start label playing from the beginning\n",
      "Start label playing from the beginning\n",
      "Start label playing from the beginning\n",
      "Start label playing from the beginning\n",
      "Start label playing from the beginning\n",
      "Start label playing from the beginning\n",
      "Start label playing from the beginning\n",
      "Start label playing from the beginning\n",
      "Start label playing from the beginning\n",
      "Start label playing from the beginning\n",
      "Start label playing from the beginning\n",
      "Start label playing from the beginning\n",
      "Start label playing from the beginning\n",
      "Start label playing from the beginning\n",
      "Start label playing from the beginning\n",
      "Start label playing from the beginning\n",
      "Start label playing from the beginning\n",
      "Start label playing from the beginning\n",
      "Start label playing from the beginning\n",
      "Start label playing from the beginning\n",
      "Start label playing from the beginning\n",
      "Start label playing from the beginning\n",
      "Start label playing from the beginning\n",
      "Start label playing from the beginning\n",
      "Start label playing from the beginning\n",
      "Start label playing from the beginning\n",
      "Start label playing from the beginning\n",
      "Start label playing from the beginning\n",
      "Start label playing from the beginning\n",
      "Start label playing from the beginning\n",
      "Start label playing from the beginning\n",
      "Start label playing from the beginning\n",
      "Start label playing from the beginning\n",
      "Start label playing from the beginning\n",
      "Start label playing from the beginning\n",
      "Start label playing from the beginning\n",
      "Start label playing from the beginning\n",
      "Start label playing from the beginning\n",
      "Start label playing from the beginning\n",
      "Start label playing from the beginning\n",
      "Start label playing from the beginning\n",
      "Start label playing from the beginning\n",
      "Start label playing from the beginning\n",
      "Start label playing from the beginning\n",
      "Start label playing from the beginning\n",
      "Start label playing from the beginning\n",
      "Start label playing from the beginning\n",
      "Start label playing from the beginning\n",
      "Start label playing from the beginning\n",
      "Start label playing from the beginning\n",
      "Start label playing from the beginning\n",
      "Start label playing from the beginning\n",
      "Start label playing from the beginning\n",
      "Start label playing from the beginning\n",
      "Start label playing from the beginning\n",
      "Start label playing from the beginning\n",
      "Start label playing from the beginning\n",
      "Start label playing from the beginning\n",
      "Start label playing from the beginning\n",
      "Start label playing from the beginning\n",
      "Start label playing from the beginning\n",
      "Start label playing from the beginning\n",
      "Start label playing from the beginning\n",
      "Start label playing from the beginning\n",
      "Start label playing from the beginning\n",
      "Start label playing from the beginning\n",
      "Start label playing from the beginning\n",
      "Start label playing from the beginning\n",
      "Start label playing from the beginning\n",
      "Start label playing from the beginning\n",
      "Start label playing from the beginning\n",
      "Start label playing from the beginning\n",
      "Start label playing from the beginning\n",
      "Start label playing from the beginning\n",
      "Start label playing from the beginning\n",
      "Start label playing from the beginning\n",
      "Start label playing from the beginning\n",
      "Start label playing from the beginning\n",
      "Start label playing from the beginning\n",
      "Start label playing from the beginning\n",
      "Start label playing from the beginning\n",
      "Start label playing from the beginning\n",
      "Start label playing from the beginning\n",
      "Start label playing from the beginning\n",
      "Start label playing from the beginning\n",
      "Start label playing from the beginning\n",
      "Start label playing from the beginning\n",
      "Start label playing from the beginning\n",
      "Start label playing from the beginning\n",
      "Start label playing from the beginning\n",
      "Start label playing from the beginning\n",
      "Start label playing from the beginning\n",
      "Start label playing from the beginning\n",
      "Start label playing from the beginning\n",
      "Start label playing from the beginning\n",
      "Start label playing from the beginning\n",
      "Start label playing from the beginning\n",
      "Start label playing from the beginning\n",
      "Start label playing from the beginning\n",
      "Start label playing from the beginning\n",
      "Start label playing from the beginning\n",
      "Start label playing from the beginning\n",
      "Start label playing from the beginning\n",
      "Start label playing from the beginning\n",
      "Start label playing from the beginning\n",
      "Start label playing from the beginning\n",
      "Start label playing from the beginning\n",
      "Start label playing from the beginning\n",
      "Start label playing from the beginning\n",
      "Start label playing from the beginning\n",
      "Start label playing from the beginning\n",
      "Start label playing from the beginning\n",
      "Start label playing from the beginning\n",
      "Start label playing from the beginning\n",
      "Start label playing from the beginning\n",
      "Start label playing from the beginning\n",
      "Start label playing from the beginning\n",
      "Start label playing from the beginning\n",
      "Start label playing from the beginning\n",
      "Start label playing from the beginning\n",
      "Start label playing from the beginning\n",
      "Start label playing from the beginning\n",
      "Start label playing from the beginning\n",
      "Start label playing from the beginning\n",
      "Start label playing from the beginning\n",
      "Start label playing from the beginning\n",
      "Start label playing from the beginning\n",
      "Start label playing from the beginning\n",
      "Start label playing from the beginning\n",
      "Start label playing from the beginning\n",
      "Start label playing from the beginning\n",
      "Start label playing from the beginning\n",
      "Start label playing from the beginning\n",
      "Start label playing from the beginning\n",
      "Start label playing from the beginning\n",
      "Start label playing from the beginning\n",
      "Start label playing from the beginning\n",
      "Start label playing from the beginning\n",
      "Start label playing from the beginning\n",
      "Start label playing from the beginning\n",
      "Start label playing from the beginning\n",
      "Start label playing from the beginning\n",
      "Start label playing from the beginning\n",
      "Start label playing from the beginning\n",
      "Start label playing from the beginning\n",
      "Start label playing from the beginning\n",
      "Start label playing from the beginning\n",
      "Start label playing from the beginning\n",
      "Start label playing from the beginning\n",
      "Start label playing from the beginning\n",
      "Start label playing from the beginning\n",
      "Start label playing from the beginning\n",
      "Start label playing from the beginning\n",
      "Start label playing from the beginning\n",
      "Start label playing from the beginning\n",
      "Start label playing from the beginning\n",
      "Start label playing from the beginning\n",
      "Start label playing from the beginning\n",
      "Start label playing from the beginning\n",
      "Start label playing from the beginning\n",
      "Start label playing from the beginning\n",
      "Start label playing from the beginning\n",
      "Start label playing from the beginning\n",
      "Start label playing from the beginning\n",
      "Start label playing from the beginning\n",
      "Start label playing from the beginning\n",
      "Start label playing from the beginning\n",
      "Start label playing from the beginning\n",
      "Start label playing from the beginning\n",
      "Start label playing from the beginning\n",
      "Start label playing from the beginning\n",
      "Start label playing from the beginning\n",
      "Start label playing from the beginning\n",
      "Start label playing from the beginning\n",
      "Start label playing from the beginning\n",
      "Start label playing from the beginning\n",
      "Start label playing from the beginning\n",
      "Start label playing from the beginning\n",
      "Start label playing from the beginning\n",
      "Start label playing from the beginning\n",
      "Start label playing from the beginning\n",
      "Start label playing from the beginning\n",
      "Start label playing from the beginning\n",
      "Start label playing from the beginning\n",
      "Start label playing from the beginning\n",
      "Start label playing from the beginning\n",
      "Start label playing from the beginning\n",
      "Start label playing from the beginning\n",
      "Start label playing from the beginning\n"
     ]
    }
   ],
   "source": [
    "controller.labelStreams.soundOn()"
   ]
  },
  {
   "cell_type": "markdown",
   "metadata": {},
   "source": [
    "#### Set and reset playback time"
   ]
  },
  {
   "cell_type": "code",
   "execution_count": 28,
   "metadata": {
    "ExecuteTime": {
     "end_time": "2017-01-10T12:11:07.840640",
     "start_time": "2017-01-10T20:11:07.836Z"
    },
    "collapsed": false
   },
   "outputs": [
    {
     "data": {
      "text/plain": [
       "Tue Oct 04 2016 21:00:00 GMT-0700 (PDT)"
      ]
     },
     "execution_count": 28,
     "metadata": {},
     "output_type": "execute_result"
    }
   ],
   "source": [
    "controller.labelStreams.currentTime = controller.labelStreams.labelStreams[0].data[100].date"
   ]
  },
  {
   "cell_type": "code",
   "execution_count": 14,
   "metadata": {
    "ExecuteTime": {
     "end_time": "2017-02-12T00:14:43.706211",
     "start_time": "2017-02-12T08:14:43.702Z"
    },
    "collapsed": false
   },
   "outputs": [
    {
     "data": {
      "text/plain": [
       "Sun Oct 30 2016 12:00:00 GMT-0700 (PDT)"
      ]
     },
     "execution_count": 14,
     "metadata": {},
     "output_type": "execute_result"
    }
   ],
   "source": [
    "controller.labelStreams.currentTime = new Date('2016-10-30 12:00:00')"
   ]
  },
  {
   "cell_type": "code",
   "execution_count": 61,
   "metadata": {
    "ExecuteTime": {
     "end_time": "2017-02-18T16:26:22.657936",
     "start_time": "2017-02-19T00:26:22.654Z"
    },
    "collapsed": false,
    "scrolled": true
   },
   "outputs": [
    {
     "data": {
      "text/plain": [
       "undefined"
      ]
     },
     "execution_count": 61,
     "metadata": {},
     "output_type": "execute_result"
    },
    {
     "name": "stdout",
     "output_type": "stream",
     "text": [
      "Start label playing from the beginning\n",
      "Start label playing from the beginning\n",
      "Start label playing from the beginning\n",
      "Start label playing from the beginning\n",
      "Start label playing from the beginning\n",
      "Start label playing from the beginning\n",
      "Start label playing from the beginning\n",
      "Start label playing from the beginning\n",
      "Start label playing from the beginning\n",
      "Start label playing from the beginning\n",
      "Start label playing from the beginning\n",
      "Start label playing from the beginning\n",
      "Start label playing from the beginning\n",
      "Start label playing from the beginning\n",
      "Start label playing from the beginning\n",
      "Start label playing from the beginning\n",
      "Start label playing from the beginning\n",
      "Start label playing from the beginning\n",
      "Start label playing from the beginning\n",
      "Start label playing from the beginning\n",
      "Start label playing from the beginning\n",
      "Start label playing from the beginning\n",
      "Start label playing from the beginning\n",
      "Start label playing from the beginning\n",
      "Start label playing from the beginning\n",
      "Start label playing from the beginning\n",
      "Start label playing from the beginning\n",
      "Start label playing from the beginning\n",
      "Start label playing from the beginning\n",
      "Start label playing from the beginning\n",
      "Start label playing from the beginning\n",
      "Start label playing from the beginning\n",
      "Start label playing from the beginning\n",
      "Start label playing from the beginning\n",
      "Start label playing from the beginning\n",
      "Start label playing from the beginning\n",
      "Start label playing from the beginning\n",
      "Start label playing from the beginning\n",
      "Start label playing from the beginning\n",
      "Start label playing from the beginning\n",
      "Start label playing from the beginning\n",
      "Start label playing from the beginning\n",
      "Start label playing from the beginning\n",
      "Start label playing from the beginning\n",
      "Start label playing from the beginning\n",
      "Start label playing from the beginning\n",
      "Start label playing from the beginning\n",
      "Start label playing from the beginning\n",
      "Start label playing from the beginning\n",
      "Start label playing from the beginning\n",
      "Start label playing from the beginning\n",
      "Start label playing from the beginning\n",
      "Start label playing from the beginning\n",
      "Start label playing from the beginning\n",
      "Start label playing from the beginning\n",
      "Start label playing from the beginning\n",
      "Start label playing from the beginning\n",
      "Start label playing from the beginning\n",
      "Start label playing from the beginning\n",
      "Start label playing from the beginning\n",
      "Start label playing from the beginning\n",
      "Start label playing from the beginning\n",
      "Start label playing from the beginning\n",
      "Start label playing from the beginning\n",
      "Start label playing from the beginning\n",
      "Start label playing from the beginning\n",
      "Start label playing from the beginning\n",
      "Start label playing from the beginning\n",
      "Start label playing from the beginning\n",
      "Start label playing from the beginning\n",
      "Start label playing from the beginning\n",
      "Start label playing from the beginning\n",
      "Start label playing from the beginning\n",
      "Start label playing from the beginning\n",
      "Start label playing from the beginning\n",
      "Start label playing from the beginning\n",
      "Start label playing from the beginning\n",
      "Start label playing from the beginning\n",
      "Start label playing from the beginning\n",
      "Start label playing from the beginning\n",
      "Start label playing from the beginning\n",
      "Start label playing from the beginning\n",
      "Start label playing from the beginning\n",
      "Start label playing from the beginning\n",
      "Start label playing from the beginning\n",
      "Start label playing from the beginning\n",
      "Start label playing from the beginning\n"
     ]
    }
   ],
   "source": [
    "controller.labelStreams.resetTime()"
   ]
  },
  {
   "cell_type": "markdown",
   "metadata": {
    "collapsed": true
   },
   "source": [
    "## Tweet Stream controller, to be refactored"
   ]
  },
  {
   "cell_type": "code",
   "execution_count": null,
   "metadata": {
    "collapsed": true
   },
   "outputs": [],
   "source": [
    "controller.initTweet()\n",
    "    .then(()=>{\n",
    "        Network.startServer(controller.heart_beat_received.bind(controller))\n",
    "        console.log(\"all done\")\n",
    "        controller.startTweet(100)\n",
    "    })\n",
    "    .catch(err=>{console.log(err)})"
   ]
  },
  {
   "cell_type": "code",
   "execution_count": 41,
   "metadata": {
    "ExecuteTime": {
     "end_time": "2017-01-10T12:33:57.550248",
     "start_time": "2017-01-10T20:33:55.672Z"
    },
    "collapsed": false,
    "scrolled": true
   },
   "outputs": [
    {
     "name": "stdout",
     "output_type": "stream",
     "text": [
      "start playing tweets at duration: 250\n",
      "\n"
     ]
    },
    {
     "data": {
      "text/plain": [
       "undefined"
      ]
     },
     "execution_count": 41,
     "metadata": {},
     "output_type": "execute_result"
    }
   ],
   "source": [
    "// controller.stopTweet()\n",
    "controller.startTweet(250)\n",
    "// Config.DEBUG=!Config.DEBUG\n",
    "// Config.MonitHeart = !Config.MonitHeart"
   ]
  },
  {
   "cell_type": "code",
   "execution_count": 43,
   "metadata": {
    "ExecuteTime": {
     "end_time": "2017-01-09T20:24:11.710115",
     "start_time": "2017-01-10T04:24:11.704Z"
    },
    "collapsed": false
   },
   "outputs": [
    {
     "data": {
      "text/plain": [
       "undefined"
      ]
     },
     "execution_count": 43,
     "metadata": {},
     "output_type": "execute_result"
    }
   ],
   "source": [
    "controller.stopRegular()\n",
    "\n",
    "option={\n",
    "    duration: 1000,\n",
    "    sequential: true,\n",
    "    sequential_delta: 40,\n",
    "    randomize: false,\n",
    "    randomize_range: 8095,\n",
    "    drift: true,\n",
    "    drift_delta:2,\n",
    "    msg:\"0,255,0,1\"\n",
    "}\n",
    "controller.startRegular(option)\n",
    "// controller.updateRegular(option)"
   ]
  },
  {
   "cell_type": "code",
   "execution_count": 49,
   "metadata": {
    "ExecuteTime": {
     "end_time": "2017-01-09T20:25:04.191398",
     "start_time": "2017-01-10T04:25:04.143Z"
    },
    "collapsed": false
   },
   "outputs": [
    {
     "data": {
      "text/plain": [
       "undefined"
      ]
     },
     "execution_count": 49,
     "metadata": {},
     "output_type": "execute_result"
    }
   ],
   "source": [
    "controller.stopRegular()"
   ]
  },
  {
   "cell_type": "code",
   "execution_count": 11,
   "metadata": {
    "ExecuteTime": {
     "end_time": "2017-01-04T21:04:11.166691",
     "start_time": "2017-01-05T05:04:10.140Z"
    },
    "collapsed": false
   },
   "outputs": [
    {
     "data": {
      "text/plain": [
       "'none'"
      ]
     },
     "execution_count": 11,
     "metadata": {},
     "output_type": "execute_result"
    }
   ],
   "source": [
    "controller.heartMonitorId = 'none'; //0, 3, 'all', 'none'"
   ]
  },
  {
   "cell_type": "code",
   "execution_count": 12,
   "metadata": {
    "ExecuteTime": {
     "end_time": "2017-01-04T21:04:13.887791",
     "start_time": "2017-01-05T05:04:13.436Z"
    },
    "collapsed": false
   },
   "outputs": [
    {
     "data": {
      "text/plain": [
       "true"
      ]
     },
     "execution_count": 12,
     "metadata": {},
     "output_type": "execute_result"
    }
   ],
   "source": [
    "Config.DEBUG=true"
   ]
  },
  {
   "cell_type": "code",
   "execution_count": 5,
   "metadata": {
    "ExecuteTime": {
     "end_time": "2017-01-07T14:28:24.687830",
     "start_time": "2017-01-07T22:28:24.684Z"
    },
    "collapsed": false
   },
   "outputs": [
    {
     "data": {
      "text/plain": [
       "true"
      ]
     },
     "execution_count": 5,
     "metadata": {},
     "output_type": "execute_result"
    }
   ],
   "source": [
    "controller.playingRegular\n"
   ]
  },
  {
   "cell_type": "code",
   "execution_count": null,
   "metadata": {
    "collapsed": true
   },
   "outputs": [],
   "source": []
  },
  {
   "cell_type": "code",
   "execution_count": 21,
   "metadata": {
    "ExecuteTime": {
     "end_time": "2016-09-11T01:49:16.279550",
     "start_time": "2016-09-11T08:49:16.272Z"
    },
    "collapsed": false
   },
   "outputs": [
    {
     "data": {
      "text/plain": [
       "'ID:3#BPM:58.25'"
      ]
     },
     "execution_count": 21,
     "metadata": {},
     "output_type": "execute_result"
    }
   ],
   "source": [
    "a='ID:3#BPM:58.25'"
   ]
  },
  {
   "cell_type": "code",
   "execution_count": 26,
   "metadata": {
    "ExecuteTime": {
     "end_time": "2016-09-11T01:49:54.087936",
     "start_time": "2016-09-11T08:49:54.085Z"
    },
    "collapsed": false
   },
   "outputs": [
    {
     "data": {
      "text/plain": [
       "false"
      ]
     },
     "execution_count": 26,
     "metadata": {},
     "output_type": "execute_result"
    }
   ],
   "source": [
    "a.match('BPM')==null"
   ]
  },
  {
   "cell_type": "code",
   "execution_count": 11,
   "metadata": {
    "ExecuteTime": {
     "end_time": "2017-01-04T21:15:25.247967",
     "start_time": "2017-01-05T05:15:25.244Z"
    },
    "collapsed": false
   },
   "outputs": [
    {
     "data": {
      "text/plain": [
       "undefined"
      ]
     },
     "execution_count": 11,
     "metadata": {},
     "output_type": "execute_result"
    }
   ],
   "source": [
    "// test 2017-1-4, start 9:14pm random"
   ]
  },
  {
   "cell_type": "code",
   "execution_count": null,
   "metadata": {
    "collapsed": true
   },
   "outputs": [],
   "source": []
  },
  {
   "cell_type": "code",
   "execution_count": null,
   "metadata": {
    "collapsed": true
   },
   "outputs": [],
   "source": []
  },
  {
   "cell_type": "code",
   "execution_count": null,
   "metadata": {
    "collapsed": true
   },
   "outputs": [],
   "source": []
  },
  {
   "cell_type": "code",
   "execution_count": null,
   "metadata": {
    "collapsed": true
   },
   "outputs": [],
   "source": []
  },
  {
   "cell_type": "code",
   "execution_count": 6,
   "metadata": {
    "ExecuteTime": {
     "end_time": "2016-09-09T19:52:46.094533",
     "start_time": "2016-09-10T02:52:46.083Z"
    },
    "code_folding": [
     0,
     66,
     71
    ],
    "collapsed": true
   },
   "outputs": [
    {
     "data": {
      "text/plain": [
       "Socket {\n",
       "  domain: null,\n",
       "  _events: { listening: [Function], message: [Function] },\n",
       "  _eventsCount: 2,\n",
       "  _maxListeners: undefined,\n",
       "  _handle: UDP { fd: -1, lookup: [Function: lookup4], owner: [Circular] },\n",
       "  _receiving: false,\n",
       "  _bindState: 1,\n",
       "  type: 'udp4',\n",
       "  fd: null,\n",
       "  _reuseAddr: undefined }"
      ]
     },
     "execution_count": 6,
     "metadata": {},
     "output_type": "execute_result"
    },
    {
     "name": "stdout",
     "output_type": "stream",
     "text": [
      "UDP Server listening on 192.168.0.100:12346\n"
     ]
    }
   ],
   "source": [
    "var devices=(function(){\n",
    "    var devDict = [];\n",
    "    var cnt = 0;\n",
    "    var devDuration = {\n",
    "        1 : 6,\n",
    "        2 : 7,\n",
    "        3 : 8\n",
    "    }\n",
    "    var that = this;\n",
    "\n",
    "    var add=function(ip, id){\n",
    "        var ips = _.map(devDict, 'ip');\n",
    "\n",
    "        if(ips.indexOf(ip)<0){\n",
    "            devDict.push({\n",
    "                id:id,\n",
    "                ip:ip\n",
    "            })\n",
    "            console.log(\"added \", ip, id, \"to device list\", devDict.length, \"devices\")\n",
    "        }\n",
    "    }\n",
    "\n",
    "    var rm=function(ip){\n",
    "        console.log()\n",
    "        _.remove(devDict, d=>{\n",
    "            return d.ip == ip\n",
    "        })\n",
    "        console.log(\"remove\", ip, \"from pool\", devDict.length, \"devices left\")\n",
    "    }\n",
    "\n",
    "    var show=function(){\n",
    "        devList.forEach(ip=>{\n",
    "            console.log(ip)\n",
    "        })\n",
    "    }\n",
    "\n",
    "    var trigger=function(ip){\n",
    "        client.send(message, 0, message.length, PORT, ip, function(err, bytes) {\n",
    "            if (err){\n",
    "                console.log(err)\n",
    "                devices.rm(ip)\n",
    "                // throw err;\n",
    "            }\n",
    "            console.log('UDP message sent to ' + ip +':'+ PORT);\n",
    "        })\n",
    "    }\n",
    "\n",
    "    var triggerAll=function(){\n",
    "        _.forEach(devDict, dev=>{\n",
    "            var duration = devDuration[dev.id]\n",
    "            if(cnt % duration == 0){\n",
    "                trigger(dev.ip)\n",
    "            }\n",
    "        })\n",
    "        cnt+=1\n",
    "        // devList.forEach(ip=>{trigger(ip)})\n",
    "    }\n",
    "\n",
    "    return {\n",
    "        add: add,\n",
    "        rm: rm,\n",
    "        show: show,\n",
    "        triggerAll: triggerAll\n",
    "    }\n",
    "}())\n",
    "\n",
    "server.on('listening', ()=>{\n",
    "    var address = server.address();\n",
    "    console.log('UDP Server listening on ' + address.address + \":\" + address.port);\n",
    "})\n",
    "\n",
    "server.on('message', (message, remote)=>{\n",
    "    var msgSplit = message.toString().trim().split(' ')\n",
    "    var msgType = msgSplit[0];\n",
    "    switch(msgType){\n",
    "        case \"Heartbeat\":\n",
    "            var ip = msgSplit[4].split(\":\")[1]\n",
    "            var id = msgSplit[3].split(\":\")[1]\n",
    "//             console.log(\"Heartbeat ===== ID:\", id, \"IP:\", ip)\n",
    "            devices.add(remote.address, id);\n",
    "            break;\n",
    "        default :\n",
    "//         console.log(remote.address + ':' + remote.port +' - ' + message);\n",
    "    }\n",
    "//     console.log(remote.address + ':' + remote.port +' - ' + message);\n",
    "});\n",
    "\n",
    "server.bind(LOCALPORT, LOCALHOST);\n",
    "\n",
    "var action=function(){\n",
    "    devices.triggerAll();\n",
    "\n",
    "    setTimeout(action, 100);\n",
    "}"
   ]
  },
  {
   "cell_type": "code",
   "execution_count": 7,
   "metadata": {
    "ExecuteTime": {
     "end_time": "2016-09-09T19:52:52.408229",
     "start_time": "2016-09-10T02:52:52.404Z"
    },
    "collapsed": true
   },
   "outputs": [
    {
     "data": {
      "text/plain": [
       "undefined"
      ]
     },
     "execution_count": 7,
     "metadata": {},
     "output_type": "execute_result"
    },
    {
     "name": "stdout",
     "output_type": "stream",
     "text": [
      "added  192.168.0.102 1 to device list 1 devices\n",
      "UDP message sent to 192.168.0.102:12345\n",
      "UDP message sent to 192.168.0.102:12345\n",
      "UDP message sent to 192.168.0.102:12345\n",
      "UDP message sent to 192.168.0.102:12345\n",
      "UDP message sent to 192.168.0.102:12345\n",
      "UDP message sent to 192.168.0.102:12345\n",
      "UDP message sent to 192.168.0.102:12345\n",
      "UDP message sent to 192.168.0.102:12345\n",
      "UDP message sent to 192.168.0.102:12345\n",
      "UDP message sent to 192.168.0.102:12345\n",
      "UDP message sent to 192.168.0.102:12345\n",
      "UDP message sent to 192.168.0.102:12345\n",
      "UDP message sent to 192.168.0.102:12345\n",
      "UDP message sent to 192.168.0.102:12345\n",
      "UDP message sent to 192.168.0.102:12345\n",
      "UDP message sent to 192.168.0.102:12345\n",
      "UDP message sent to 192.168.0.102:12345\n",
      "UDP message sent to 192.168.0.102:12345\n",
      "UDP message sent to 192.168.0.102:12345\n",
      "UDP message sent to 192.168.0.102:12345\n",
      "UDP message sent to 192.168.0.102:12345\n",
      "UDP message sent to 192.168.0.102:12345\n",
      "UDP message sent to 192.168.0.102:12345\n",
      "UDP message sent to 192.168.0.102:12345\n",
      "UDP message sent to 192.168.0.102:12345\n",
      "UDP message sent to 192.168.0.102:12345\n",
      "UDP message sent to 192.168.0.102:12345\n",
      "UDP message sent to 192.168.0.102:12345\n",
      "UDP message sent to 192.168.0.102:12345\n",
      "UDP message sent to 192.168.0.102:12345\n",
      "UDP message sent to 192.168.0.102:12345\n",
      "UDP message sent to 192.168.0.102:12345\n",
      "UDP message sent to 192.168.0.102:12345\n",
      "UDP message sent to 192.168.0.102:12345\n",
      "UDP message sent to 192.168.0.102:12345\n",
      "UDP message sent to 192.168.0.102:12345\n",
      "UDP message sent to 192.168.0.102:12345\n",
      "UDP message sent to 192.168.0.102:12345\n",
      "UDP message sent to 192.168.0.102:12345\n",
      "UDP message sent to 192.168.0.102:12345\n",
      "UDP message sent to 192.168.0.102:12345\n",
      "UDP message sent to 192.168.0.102:12345\n",
      "UDP message sent to 192.168.0.102:12345\n",
      "UDP message sent to 192.168.0.102:12345\n",
      "UDP message sent to 192.168.0.102:12345\n",
      "UDP message sent to 192.168.0.102:12345\n",
      "UDP message sent to 192.168.0.102:12345\n",
      "UDP message sent to 192.168.0.102:12345\n",
      "UDP message sent to 192.168.0.102:12345\n",
      "UDP message sent to 192.168.0.102:12345\n",
      "UDP message sent to 192.168.0.102:12345\n",
      "UDP message sent to 192.168.0.102:12345\n",
      "UDP message sent to 192.168.0.102:12345\n",
      "UDP message sent to 192.168.0.102:12345\n",
      "UDP message sent to 192.168.0.102:12345\n",
      "UDP message sent to 192.168.0.102:12345\n",
      "UDP message sent to 192.168.0.102:12345\n",
      "UDP message sent to 192.168.0.102:12345\n",
      "UDP message sent to 192.168.0.102:12345\n",
      "UDP message sent to 192.168.0.102:12345\n",
      "UDP message sent to 192.168.0.102:12345\n",
      "UDP message sent to 192.168.0.102:12345\n",
      "UDP message sent to 192.168.0.102:12345\n",
      "UDP message sent to 192.168.0.102:12345\n",
      "UDP message sent to 192.168.0.102:12345\n",
      "UDP message sent to 192.168.0.102:12345\n",
      "UDP message sent to 192.168.0.102:12345\n",
      "UDP message sent to 192.168.0.102:12345\n",
      "UDP message sent to 192.168.0.102:12345\n",
      "UDP message sent to 192.168.0.102:12345\n",
      "UDP message sent to 192.168.0.102:12345\n",
      "UDP message sent to 192.168.0.102:12345\n",
      "UDP message sent to 192.168.0.102:12345\n",
      "UDP message sent to 192.168.0.102:12345\n",
      "UDP message sent to 192.168.0.102:12345\n",
      "UDP message sent to 192.168.0.102:12345\n",
      "{ [Error: send EHOSTUNREACH 192.168.0.102:12345]\n",
      "  code: 'EHOSTUNREACH',\n",
      "  errno: 'EHOSTUNREACH',\n",
      "  syscall: 'send',\n",
      "  address: '192.168.0.102',\n",
      "  port: 12345 }\n",
      "\n",
      "remove 192.168.0.102 from pool 0 devices left\n",
      "UDP message sent to 192.168.0.102:12345\n"
     ]
    }
   ],
   "source": [
    "action();"
   ]
  },
  {
   "cell_type": "code",
   "execution_count": null,
   "metadata": {
    "collapsed": true
   },
   "outputs": [],
   "source": []
  },
  {
   "cell_type": "code",
   "execution_count": 62,
   "metadata": {
    "ExecuteTime": {
     "end_time": "2017-01-10T10:18:31.686222",
     "start_time": "2017-01-10T18:18:31.622Z"
    },
    "collapsed": false
   },
   "outputs": [
    {
     "data": {
      "text/plain": [
       "undefined"
      ]
     },
     "execution_count": 62,
     "metadata": {},
     "output_type": "execute_result"
    }
   ],
   "source": [
    "var _ = require('lodash')"
   ]
  },
  {
   "cell_type": "code",
   "execution_count": 63,
   "metadata": {
    "ExecuteTime": {
     "end_time": "2017-01-10T10:18:42.981067",
     "start_time": "2017-01-10T18:18:42.973Z"
    },
    "collapsed": false
   },
   "outputs": [
    {
     "data": {
      "text/plain": [
       "[ 0, 1, 2, 3, 4, 5, 6, 7, 8, 9 ]"
      ]
     },
     "execution_count": 63,
     "metadata": {},
     "output_type": "execute_result"
    }
   ],
   "source": [
    "_.range(10)"
   ]
  },
  {
   "cell_type": "code",
   "execution_count": 65,
   "metadata": {
    "ExecuteTime": {
     "end_time": "2017-01-10T10:20:50.106875",
     "start_time": "2017-01-10T18:20:50.087Z"
    },
    "collapsed": false
   },
   "outputs": [
    {
     "data": {
      "text/plain": [
       "true"
      ]
     },
     "execution_count": 65,
     "metadata": {},
     "output_type": "execute_result"
    }
   ],
   "source": [
    "0!==null"
   ]
  },
  {
   "cell_type": "code",
   "execution_count": 71,
   "metadata": {
    "ExecuteTime": {
     "end_time": "2017-01-10T10:38:10.327917",
     "start_time": "2017-01-10T18:38:10.322Z"
    },
    "collapsed": false
   },
   "outputs": [
    {
     "name": "stdout",
     "output_type": "stream",
     "text": [
      "aa2\n"
     ]
    },
    {
     "data": {
      "text/plain": [
       "undefined"
      ]
     },
     "execution_count": 71,
     "metadata": {},
     "output_type": "execute_result"
    }
   ],
   "source": [
    "console.log(`aa${a}`)"
   ]
  },
  {
   "cell_type": "code",
   "execution_count": 72,
   "metadata": {
    "ExecuteTime": {
     "end_time": "2017-01-10T10:38:24.800350",
     "start_time": "2017-01-10T18:38:24.794Z"
    },
    "collapsed": false
   },
   "outputs": [
    {
     "data": {
      "text/plain": [
       "'aa2'"
      ]
     },
     "execution_count": 72,
     "metadata": {},
     "output_type": "execute_result"
    }
   ],
   "source": [
    "`aa${a}`"
   ]
  },
  {
   "cell_type": "code",
   "execution_count": 27,
   "metadata": {
    "ExecuteTime": {
     "end_time": "2017-01-16T19:20:21.261507",
     "start_time": "2017-01-17T03:20:21.258Z"
    },
    "collapsed": false
   },
   "outputs": [
    {
     "data": {
      "text/plain": [
       "[ '1', '2', '3' ]"
      ]
     },
     "execution_count": 27,
     "metadata": {},
     "output_type": "execute_result"
    }
   ],
   "source": [
    "a=[1,1,2,2,3,3,3]\n",
    "_.map(_.groupBy(a.map(x=>{return {x:x}}), 'x'),\n",
    "    (v,k)=>k)"
   ]
  },
  {
   "cell_type": "code",
   "execution_count": 28,
   "metadata": {
    "ExecuteTime": {
     "end_time": "2017-01-16T19:22:08.168070",
     "start_time": "2017-01-17T03:22:08.165Z"
    },
    "collapsed": false
   },
   "outputs": [
    {
     "data": {
      "text/plain": [
       "'1,1,2,2,3,3,3'"
      ]
     },
     "execution_count": 28,
     "metadata": {},
     "output_type": "execute_result"
    },
    {
     "name": "stdout",
     "output_type": "stream",
     "text": [
      "a new connection. Number of connectedSockets is 1\n"
     ]
    }
   ],
   "source": [
    "a.join(',')"
   ]
  },
  {
   "cell_type": "code",
   "execution_count": null,
   "metadata": {
    "collapsed": true
   },
   "outputs": [],
   "source": []
  }
 ],
 "metadata": {
  "kernelspec": {
   "display_name": "NodeJS",
   "language": "javascript",
   "name": "nodejs"
  },
  "language_info": {
   "file_extension": ".js",
   "mimetype": "application/javascript",
   "name": "javascript",
   "version": "5.0.0"
  }
 },
 "nbformat": 4,
 "nbformat_minor": 0
}
